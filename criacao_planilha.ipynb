{
 "cells": [
  {
   "cell_type": "code",
   "execution_count": 37,
   "metadata": {},
   "outputs": [
    {
     "name": "stdout",
     "output_type": "stream",
     "text": [
      "         Nome  Idade          Cidade  Salário\n",
      "0        João   20.0       São Paulo   3500.0\n",
      "1      Ademar    NaN  Rio de Janeiro   4500.0\n",
      "2     Roberto   34.0             NaN      NaN\n",
      "3      Fátima   25.0        Salvador   5000.0\n",
      "4  Felisberto    NaN    Porto Alegre   4800.0\n"
     ]
    }
   ],
   "source": [
    "import pandas as pd\n",
    "import numpy as np\n",
    "\n",
    "# Criar uma data frame om alguns dados faltando\n",
    "data = {\n",
    "    \"Nome\" : [\"João\", \"Ademar\", \"Roberto\", \"Fátima\", \"Felisberto\"],\n",
    "    \"Idade\" : [20, np.nan, 34, 25, np.nan],\n",
    "    \"Cidade\" : [\"São Paulo\", \"Rio de Janeiro\", np.nan, \"Salvador\", \"Porto Alegre\"],\n",
    "    \"Salário\" : [3500, 4500, np.nan, 5000, 4800]\n",
    "}\n",
    "\n",
    "df = pd.DataFrame(data)\n",
    "\n",
    "arquivo = \"dados_ausentes.xlsx\"\n",
    "df.to_excel(arquivo, index=False)\n"
   ]
  }
 ],
 "metadata": {
  "kernelspec": {
   "display_name": "Python 3",
   "language": "python",
   "name": "python3"
  },
  "language_info": {
   "codemirror_mode": {
    "name": "ipython",
    "version": 3
   },
   "file_extension": ".py",
   "mimetype": "text/x-python",
   "name": "python",
   "nbconvert_exporter": "python",
   "pygments_lexer": "ipython3",
   "version": "3.12.1"
  }
 },
 "nbformat": 4,
 "nbformat_minor": 2
}
