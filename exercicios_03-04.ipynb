{
 "cells": [
  {
   "cell_type": "code",
   "execution_count": 3,
   "metadata": {},
   "outputs": [
    {
     "name": "stdout",
     "output_type": "stream",
     "text": [
      "    Nome  Idade          Cidade  Salário\n",
      "0   João   28.0       São Paulo   3500.0\n",
      "1  Maria    NaN  Rio de Janeiro   4500.0\n",
      "2   José   35.0             NaN      NaN\n",
      "3    Ana   22.0        Salvador   5000.0\n",
      "4  Pedro    NaN    Porto Alegre   4800.0\n"
     ]
    }
   ],
   "source": [
    "import pandas as pd \n",
    "# Exercício: Carregar um arquivo e exibir as primeiras 5 linhas.\n",
    "df = pd.read_excel('dados_ausentes_atividade.xlsx')\n",
    "print(df.head(5))"
   ]
  },
  {
   "cell_type": "code",
   "execution_count": 4,
   "metadata": {},
   "outputs": [
    {
     "name": "stdout",
     "output_type": "stream",
     "text": [
      "    Nome  Idade  Cidade  Salário\n",
      "0  False  False   False    False\n",
      "1  False   True   False    False\n",
      "2  False  False    True     True\n",
      "3  False  False   False    False\n",
      "4  False   True   False    False\n",
      "5  False  False   False    False\n",
      "6  False  False   False    False\n",
      "7  False  False   False    False\n"
     ]
    }
   ],
   "source": [
    "# Exercício: Verificar se há valores NaN nas colunas do DataFrame.\n",
    "print(df.isnull())"
   ]
  },
  {
   "cell_type": "code",
   "execution_count": 5,
   "metadata": {},
   "outputs": [
    {
     "name": "stdout",
     "output_type": "stream",
     "text": [
      "      Nome  Idade          Cidade  Salário\n",
      "0     João   28.0       São Paulo   3500.0\n",
      "1    Maria    NaN  Rio de Janeiro   4500.0\n",
      "2     José   35.0             NaN      0.0\n",
      "3      Ana   22.0        Salvador   5000.0\n",
      "4    Pedro    NaN    Porto Alegre   4800.0\n",
      "5      Ana   22.0        Salvador   5000.0\n",
      "6  Jessica   20.0      são paulo    3410.0\n",
      "7   Carlos   35.0    porto alegre   2500.0\n"
     ]
    },
    {
     "name": "stderr",
     "output_type": "stream",
     "text": [
      "C:\\Users\\47419992894\\AppData\\Local\\Temp\\ipykernel_2904\\3449999578.py:3: FutureWarning: A value is trying to be set on a copy of a DataFrame or Series through chained assignment using an inplace method.\n",
      "The behavior will change in pandas 3.0. This inplace method will never work because the intermediate object on which we are setting values always behaves as a copy.\n",
      "\n",
      "For example, when doing 'df[col].method(value, inplace=True)', try using 'df.method({col: value}, inplace=True)' or df[col] = df[col].method(value) instead, to perform the operation inplace on the original object.\n",
      "\n",
      "\n",
      "  df['Salário'].fillna(0, inplace=True)\n"
     ]
    }
   ],
   "source": [
    "# Exercício: Substituir os valores NaN de uma coluna por 0.\n",
    "\n",
    "df['Salário'].fillna(0, inplace=True)\n",
    "print(df)"
   ]
  },
  {
   "cell_type": "code",
   "execution_count": 11,
   "metadata": {},
   "outputs": [
    {
     "name": "stdout",
     "output_type": "stream",
     "text": [
      "      Nome  Idade          Cidade  Salário\n",
      "0     João   28.0       São Paulo   3500.0\n",
      "1    Maria   27.0  Rio de Janeiro   4500.0\n",
      "2     José   35.0             NaN      0.0\n",
      "3      Ana   22.0        Salvador   5000.0\n",
      "4    Pedro   27.0    Porto Alegre   4800.0\n",
      "5      Ana   22.0        Salvador   5000.0\n",
      "6  Jessica   20.0      são paulo    3410.0\n",
      "7   Carlos   35.0    porto alegre   2500.0\n"
     ]
    },
    {
     "name": "stderr",
     "output_type": "stream",
     "text": [
      "C:\\Users\\47419992894\\AppData\\Local\\Temp\\ipykernel_2904\\1400899220.py:4: FutureWarning: A value is trying to be set on a copy of a DataFrame or Series through chained assignment using an inplace method.\n",
      "The behavior will change in pandas 3.0. This inplace method will never work because the intermediate object on which we are setting values always behaves as a copy.\n",
      "\n",
      "For example, when doing 'df[col].method(value, inplace=True)', try using 'df.method({col: value}, inplace=True)' or df[col] = df[col].method(value) instead, to perform the operation inplace on the original object.\n",
      "\n",
      "\n",
      "  df['Idade'].fillna(df['Idade'].mean(), inplace=True)\n"
     ]
    }
   ],
   "source": [
    "# Exercício: Substituir os valores NaN de uma coluna por um valor específico\n",
    "# (por exemplo, a média).\n",
    "\n",
    "df['Idade'].fillna(df['Idade'].mean(), inplace=True)\n",
    "print(df.round(0))"
   ]
  },
  {
   "cell_type": "code",
   "execution_count": 7,
   "metadata": {},
   "outputs": [
    {
     "name": "stdout",
     "output_type": "stream",
     "text": [
      "      Nome  Idade          Cidade  Salário\n",
      "0     João   28.0       São Paulo   3500.0\n",
      "1    Maria   27.0  Rio de Janeiro   4500.0\n",
      "3      Ana   22.0        Salvador   5000.0\n",
      "4    Pedro   27.0    Porto Alegre   4800.0\n",
      "5      Ana   22.0        Salvador   5000.0\n",
      "6  Jessica   20.0      são paulo    3410.0\n",
      "7   Carlos   35.0    porto alegre   2500.0\n"
     ]
    }
   ],
   "source": [
    "# Exercício: Remover todas as linhas que contêm valores NaN em qualquer\n",
    "# coluna\n",
    "\n",
    "df_sem_nulos = df.dropna()\n",
    "print(df_sem_nulos)"
   ]
  },
  {
   "cell_type": "code",
   "execution_count": 10,
   "metadata": {},
   "outputs": [
    {
     "name": "stdout",
     "output_type": "stream",
     "text": [
      "      Nome  Idade          Cidade  Salário\n",
      "0     João   28.0       São Paulo   3500.0\n",
      "1    Maria   27.0  Rio de Janeiro   4500.0\n",
      "2     José   35.0             NaN      0.0\n",
      "3      Ana   22.0        Salvador   5000.0\n",
      "4    Pedro   27.0    Porto Alegre   4800.0\n",
      "5      Ana   22.0        Salvador   5000.0\n",
      "6  Jessica   20.0      são paulo    3410.0\n",
      "7   Carlos   35.0    porto alegre   2500.0\n"
     ]
    }
   ],
   "source": [
    "# Exercício: Substituir valores NaN de uma coluna com a mediana dessa\n",
    "# coluna.\n",
    "\n",
    "df['Idade'].fillna(df['Idade'].median, inplace=True)\n",
    "print(df)\n"
   ]
  },
  {
   "cell_type": "code",
   "execution_count": null,
   "metadata": {},
   "outputs": [],
   "source": [
    "#\n",
    "\n",
    "df['Cidade'] = df['Cidade'].str.capitalize() \n",
    "df['Cidade'] = df['Cidade'].str.title() \n",
    "print(df)"
   ]
  },
  {
   "cell_type": "code",
   "execution_count": 26,
   "metadata": {},
   "outputs": [
    {
     "name": "stdout",
     "output_type": "stream",
     "text": [
      "      Nome  Idade        Cidade  Salário\n",
      "0     João   28.0            SP   3500.0\n",
      "1    Maria    NaN            RJ   4500.0\n",
      "2     José   35.0           NaN      NaN\n",
      "3      Ana   22.0      salvador   5000.0\n",
      "4    Pedro    NaN  porto alegre   4800.0\n",
      "5      Ana   22.0      salvador   5000.0\n",
      "6  Jessica   20.0    são paulo    3410.0\n",
      "7   Carlos   35.0  porto alegre   2500.0\n"
     ]
    }
   ],
   "source": [
    "# Substituição de valores categóricos: sao paulo, sp, rj...\n",
    "df['Cidade'] = df['Cidade'].str.lower().replace({'são paulo' : 'SP', 'rio de janeiro' : 'RJ', 'rj' : 'RJ'})\n",
    "print(df)"
   ]
  },
  {
   "cell_type": "code",
   "execution_count": 27,
   "metadata": {},
   "outputs": [
    {
     "name": "stdout",
     "output_type": "stream",
     "text": [
      "      Nome  Idade        Cidade  Salário Faixa Etária\n",
      "0     João   28.0            SP   3500.0       Adulto\n",
      "1    Maria    NaN            RJ   4500.0          NaN\n",
      "2     José   35.0           NaN      NaN   Meia-Idade\n",
      "3      Ana   22.0      salvador   5000.0       Adulto\n",
      "4    Pedro    NaN  porto alegre   4800.0          NaN\n",
      "5      Ana   22.0      salvador   5000.0       Adulto\n",
      "6  Jessica   20.0    são paulo    3410.0       Adulto\n",
      "7   Carlos   35.0  porto alegre   2500.0   Meia-Idade\n"
     ]
    }
   ],
   "source": [
    "# Criar uma nova coluna: Faixa Etária\n",
    "df['Faixa Etária'] = pd.cut(df['Idade'], bins = [0, 18, 30, 50, 100], labels=['Jovem', 'Adulto', 'Meia-Idade', 'Idoso'])\n",
    "print(df)"
   ]
  },
  {
   "cell_type": "code",
   "execution_count": 28,
   "metadata": {},
   "outputs": [
    {
     "name": "stdout",
     "output_type": "stream",
     "text": [
      "      Nome  Idade        Cidade  Salário Faixa Etária\n",
      "0     João   28.0            SP   3500.0       Adulto\n",
      "1    Maria    NaN            RJ   4500.0          NaN\n",
      "2     José   35.0           NaN      NaN   Meia-Idade\n",
      "3      Ana   22.0      salvador   5000.0       Adulto\n",
      "4    Pedro    NaN  porto alegre   4800.0          NaN\n",
      "6  Jessica   20.0    são paulo    3410.0       Adulto\n",
      "7   Carlos   35.0  porto alegre   2500.0   Meia-Idade\n"
     ]
    }
   ],
   "source": [
    "# Remover Duplicatas\n",
    "df = df.drop_duplicates(subset=['Nome'])\n",
    "print(df)"
   ]
  }
 ],
 "metadata": {
  "kernelspec": {
   "display_name": "Python 3",
   "language": "python",
   "name": "python3"
  },
  "language_info": {
   "codemirror_mode": {
    "name": "ipython",
    "version": 3
   },
   "file_extension": ".py",
   "mimetype": "text/x-python",
   "name": "python",
   "nbconvert_exporter": "python",
   "pygments_lexer": "ipython3",
   "version": "3.12.1"
  }
 },
 "nbformat": 4,
 "nbformat_minor": 2
}
