{
 "cells": [
  {
   "cell_type": "code",
   "execution_count": 33,
   "metadata": {},
   "outputs": [
    {
     "name": "stdout",
     "output_type": "stream",
     "text": [
      "         Nome  Idade          Cidade  Salário\n",
      "0        João   20.0       São Paulo   3500.0\n",
      "1      Ademar    NaN  Rio de Janeiro   4500.0\n",
      "2     Roberto   34.0             NaN      NaN\n",
      "3      Fátima   25.0        Salvador   5000.0\n",
      "4  Felisberto    NaN    Porto Alegre   4800.0\n"
     ]
    }
   ],
   "source": [
    "import pandas as pd \n",
    "\n",
    "df = pd.read_excel('dados_ausentes.xlsx')\n",
    "print(df.head(5))"
   ]
  },
  {
   "cell_type": "code",
   "execution_count": 25,
   "metadata": {},
   "outputs": [
    {
     "name": "stdout",
     "output_type": "stream",
     "text": [
      "      Nome  Idade          Cidade  Salário\n",
      "0     João   28.0       São Paulo   3500.0\n",
      "1    Maria    NaN  Rio De Janeiro   4500.0\n",
      "2     José   35.0             NaN      NaN\n",
      "3      Ana   22.0        Salvador   5000.0\n",
      "4    Pedro    NaN    Porto Alegre   4800.0\n",
      "5      Ana   22.0        Salvador   5000.0\n",
      "6  Jessica   20.0      São Paulo    3410.0\n",
      "7   Carlos   35.0    Porto Alegre   2500.0\n"
     ]
    }
   ],
   "source": [
    "# Corrigir erros de formatação (maiúscula, minúscula)\n",
    "df['Cidade'] = df['Cidade'].str.capitalize() \n",
    "df['Cidade'] = df['Cidade'].str.title() \n",
    "print(df)"
   ]
  },
  {
   "cell_type": "code",
   "execution_count": 26,
   "metadata": {},
   "outputs": [
    {
     "name": "stdout",
     "output_type": "stream",
     "text": [
      "      Nome  Idade        Cidade  Salário\n",
      "0     João   28.0            SP   3500.0\n",
      "1    Maria    NaN            RJ   4500.0\n",
      "2     José   35.0           NaN      NaN\n",
      "3      Ana   22.0      salvador   5000.0\n",
      "4    Pedro    NaN  porto alegre   4800.0\n",
      "5      Ana   22.0      salvador   5000.0\n",
      "6  Jessica   20.0    são paulo    3410.0\n",
      "7   Carlos   35.0  porto alegre   2500.0\n"
     ]
    }
   ],
   "source": [
    "# Substituição de valores categóricos: sao paulo, sp, rj...\n",
    "df['Cidade'] = df['Cidade'].str.lower().replace({'são paulo' : 'SP', 'rio de janeiro' : 'RJ', 'rj' : 'RJ'})\n",
    "print(df)"
   ]
  },
  {
   "cell_type": "code",
   "execution_count": 27,
   "metadata": {},
   "outputs": [
    {
     "name": "stdout",
     "output_type": "stream",
     "text": [
      "      Nome  Idade        Cidade  Salário Faixa Etária\n",
      "0     João   28.0            SP   3500.0       Adulto\n",
      "1    Maria    NaN            RJ   4500.0          NaN\n",
      "2     José   35.0           NaN      NaN   Meia-Idade\n",
      "3      Ana   22.0      salvador   5000.0       Adulto\n",
      "4    Pedro    NaN  porto alegre   4800.0          NaN\n",
      "5      Ana   22.0      salvador   5000.0       Adulto\n",
      "6  Jessica   20.0    são paulo    3410.0       Adulto\n",
      "7   Carlos   35.0  porto alegre   2500.0   Meia-Idade\n"
     ]
    }
   ],
   "source": [
    "# Criar uma nova coluna: Faixa Etária\n",
    "df['Faixa Etária'] = pd.cut(df['Idade'], bins = [0, 18, 30, 50, 100], labels=['Jovem', 'Adulto', 'Meia-Idade', 'Idoso'])\n",
    "print(df)"
   ]
  },
  {
   "cell_type": "code",
   "execution_count": 28,
   "metadata": {},
   "outputs": [
    {
     "name": "stdout",
     "output_type": "stream",
     "text": [
      "      Nome  Idade        Cidade  Salário Faixa Etária\n",
      "0     João   28.0            SP   3500.0       Adulto\n",
      "1    Maria    NaN            RJ   4500.0          NaN\n",
      "2     José   35.0           NaN      NaN   Meia-Idade\n",
      "3      Ana   22.0      salvador   5000.0       Adulto\n",
      "4    Pedro    NaN  porto alegre   4800.0          NaN\n",
      "6  Jessica   20.0    são paulo    3410.0       Adulto\n",
      "7   Carlos   35.0  porto alegre   2500.0   Meia-Idade\n"
     ]
    }
   ],
   "source": [
    "# Remover Duplicatas\n",
    "df = df.drop_duplicates(subset=['Nome'])\n",
    "print(df)"
   ]
  }
 ],
 "metadata": {
  "kernelspec": {
   "display_name": "Python 3",
   "language": "python",
   "name": "python3"
  },
  "language_info": {
   "codemirror_mode": {
    "name": "ipython",
    "version": 3
   },
   "file_extension": ".py",
   "mimetype": "text/x-python",
   "name": "python",
   "nbconvert_exporter": "python",
   "pygments_lexer": "ipython3",
   "version": "3.12.1"
  }
 },
 "nbformat": 4,
 "nbformat_minor": 2
}
