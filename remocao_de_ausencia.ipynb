{
 "cells": [
  {
   "cell_type": "code",
   "execution_count": 20,
   "metadata": {},
   "outputs": [
    {
     "name": "stdout",
     "output_type": "stream",
     "text": [
      "         Nome  Idade          Cidade  Salário\n",
      "0        João   20.0       São Paulo   3500.0\n",
      "1      Ademar    NaN  Rio de Janeiro   4500.0\n",
      "2     Roberto   34.0             NaN      NaN\n",
      "3      Fátima   25.0        Salvador   5000.0\n",
      "4  Felisberto    NaN    Porto Alegre   4800.0\n",
      "5        José   20.0       são paulo   3410.0\n",
      "6      Carlos   35.0    porto alegre   2500.0\n",
      "7      Plínio   55.0        curitiba   7000.0\n"
     ]
    }
   ],
   "source": [
    "import pandas as pd\n",
    "\n",
    "# 1. Carregar os dados do arquivo\n",
    "df = pd.read_excel(\"dados_ausentes.xlsx\")\n",
    "print(df)"
   ]
  },
  {
   "cell_type": "code",
   "execution_count": 4,
   "metadata": {},
   "outputs": [
    {
     "name": "stdout",
     "output_type": "stream",
     "text": [
      "    Nome  Idade  Cidade  Salário\n",
      "0  False  False   False    False\n",
      "1  False   True   False    False\n",
      "2  False  False    True     True\n",
      "3  False  False   False    False\n",
      "4  False   True   False    False\n"
     ]
    }
   ],
   "source": [
    "# Verificar se existem dados faltando\n",
    "print(df.isnull())"
   ]
  },
  {
   "cell_type": "code",
   "execution_count": 3,
   "metadata": {},
   "outputs": [
    {
     "name": "stdout",
     "output_type": "stream",
     "text": [
      "Nome       0\n",
      "Idade      2\n",
      "Cidade     1\n",
      "Salário    1\n",
      "dtype: int64\n"
     ]
    }
   ],
   "source": [
    "# Contar os valores ausentes\n",
    "print(df.isnull().sum())"
   ]
  },
  {
   "cell_type": "code",
   "execution_count": 5,
   "metadata": {},
   "outputs": [
    {
     "name": "stdout",
     "output_type": "stream",
     "text": [
      "     Nome  Idade     Cidade  Salário\n",
      "0    João   20.0  São Paulo   3500.0\n",
      "3  Fátima   25.0   Salvador   5000.0\n"
     ]
    }
   ],
   "source": [
    "# Excluir as linhas com dados ausentes\n",
    "\n",
    "df_sem_nulos = df.dropna() # Vai pegar somente as linhas com np.nan (NaN)\n",
    "print(df_sem_nulos)"
   ]
  },
  {
   "cell_type": "code",
   "execution_count": 8,
   "metadata": {},
   "outputs": [
    {
     "name": "stdout",
     "output_type": "stream",
     "text": [
      "         Nome  Idade          Cidade  Salário\n",
      "0        João   20.0       São Paulo   3500.0\n",
      "1      Ademar    NaN  Rio de Janeiro   4500.0\n",
      "2     Roberto   34.0    Desconhecido      NaN\n",
      "3      Fátima   25.0        Salvador   5000.0\n",
      "4  Felisberto    NaN    Porto Alegre   4800.0\n"
     ]
    }
   ],
   "source": [
    "# Substituir dados ausentes\n",
    "# Cidades - Desconhecido\n",
    "\n",
    "df['Cidade'].fillna('Desconhecido', inplace=True) #substutuir campos que estejam com \"na\"\n",
    "print(df)"
   ]
  },
  {
   "cell_type": "code",
   "execution_count": 9,
   "metadata": {},
   "outputs": [
    {
     "name": "stdout",
     "output_type": "stream",
     "text": [
      "         Nome  Idade          Cidade  Salário\n",
      "0        João   20.0       São Paulo   3500.0\n",
      "1      Ademar    NaN  Rio de Janeiro   4500.0\n",
      "2     Roberto   34.0    Desconhecido      0.0\n",
      "3      Fátima   25.0        Salvador   5000.0\n",
      "4  Felisberto    NaN    Porto Alegre   4800.0\n"
     ]
    },
    {
     "name": "stderr",
     "output_type": "stream",
     "text": [
      "C:\\Users\\47419992894\\AppData\\Local\\Temp\\ipykernel_20996\\383585131.py:3: FutureWarning: A value is trying to be set on a copy of a DataFrame or Series through chained assignment using an inplace method.\n",
      "The behavior will change in pandas 3.0. This inplace method will never work because the intermediate object on which we are setting values always behaves as a copy.\n",
      "\n",
      "For example, when doing 'df[col].method(value, inplace=True)', try using 'df.method({col: value}, inplace=True)' or df[col] = df[col].method(value) instead, to perform the operation inplace on the original object.\n",
      "\n",
      "\n",
      "  df['Salário'].fillna(0, inplace=True)\n"
     ]
    }
   ],
   "source": [
    "# Substituir dads ausentes\n",
    "# Substitui 'Salário' por 0\n",
    "df['Salário'].fillna(0, inplace=True)\n",
    "print(df)"
   ]
  },
  {
   "cell_type": "code",
   "execution_count": 23,
   "metadata": {},
   "outputs": [
    {
     "name": "stdout",
     "output_type": "stream",
     "text": [
      "         Nome  Idade          Cidade  Salário\n",
      "0        João   20.0       São Paulo   3500.0\n",
      "1      Ademar   31.5  Rio de Janeiro   4500.0\n",
      "2     Roberto   34.0             NaN      NaN\n",
      "3      Fátima   25.0        Salvador   5000.0\n",
      "4  Felisberto   31.5    Porto Alegre   4800.0\n",
      "5        José   20.0       são paulo   3410.0\n",
      "6      Carlos   35.0    porto alegre   2500.0\n",
      "7      Plínio   55.0        curitiba   7000.0\n"
     ]
    },
    {
     "name": "stderr",
     "output_type": "stream",
     "text": [
      "C:\\Users\\47419992894\\AppData\\Local\\Temp\\ipykernel_20996\\139437152.py:3: FutureWarning: A value is trying to be set on a copy of a DataFrame or Series through chained assignment using an inplace method.\n",
      "The behavior will change in pandas 3.0. This inplace method will never work because the intermediate object on which we are setting values always behaves as a copy.\n",
      "\n",
      "For example, when doing 'df[col].method(value, inplace=True)', try using 'df.method({col: value}, inplace=True)' or df[col] = df[col].method(value) instead, to perform the operation inplace on the original object.\n",
      "\n",
      "\n",
      "  df['Idade'].fillna(df['Idade'].mean(), inplace=True)\n"
     ]
    }
   ],
   "source": [
    "# Exercício: Substituir os valores NaN de uma coluna por um valor específico\n",
    "\n",
    "df['Idade'].fillna(df['Idade'].mean(), inplace=True)\n",
    "print(df)"
   ]
  },
  {
   "cell_type": "code",
   "execution_count": 18,
   "metadata": {},
   "outputs": [
    {
     "name": "stdout",
     "output_type": "stream",
     "text": [
      "         Nome  Idade          Cidade  Salário\n",
      "0        João     20       São Paulo   3500.0\n",
      "1      Ademar     26  Rio de Janeiro   4500.0\n",
      "2     Roberto     34    Desconhecido      0.0\n",
      "3      Fátima     25        Salvador   5000.0\n",
      "4  Felisberto     26    Porto Alegre   4800.0\n"
     ]
    }
   ],
   "source": [
    "\n",
    "# Converter dados da idade para int\n",
    "df['Idade'] = df['Idade'].astype(int)\n",
    "print(df)"
   ]
  },
  {
   "cell_type": "code",
   "execution_count": 19,
   "metadata": {},
   "outputs": [],
   "source": [
    "# Pega o valor de cima\n",
    "df['Idade'] = df['Idade'].ffill()\n",
    "\n",
    "# Pega o valor debaixo\n",
    "df['Idade'] = df['Idade'].bfill()"
   ]
  },
  {
   "cell_type": "code",
   "execution_count": null,
   "metadata": {},
   "outputs": [],
   "source": []
  }
 ],
 "metadata": {
  "kernelspec": {
   "display_name": "Python 3",
   "language": "python",
   "name": "python3"
  },
  "language_info": {
   "codemirror_mode": {
    "name": "ipython",
    "version": 3
   },
   "file_extension": ".py",
   "mimetype": "text/x-python",
   "name": "python",
   "nbconvert_exporter": "python",
   "pygments_lexer": "ipython3",
   "version": "3.12.1"
  }
 },
 "nbformat": 4,
 "nbformat_minor": 2
}
